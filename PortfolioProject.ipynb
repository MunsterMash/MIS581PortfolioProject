{
 "cells": [
  {
   "cell_type": "code",
   "execution_count": null,
   "metadata": {},
   "outputs": [],
   "source": [
    "import pandas as pd\n",
    "import numpy as np\n",
    "import matplotlib.pyplot as plt\n",
    "import seaborn as sns\n",
    "from sklearn.model_selection import train_test_split\n",
    "from sklearn.preprocessing import StandardScaler,LabelEncoder\n",
    "from sklearn.metrics import confusion_matrix,accuracy_score,classification_report\n",
    "\n",
    "\n",
    "# medical = pd.read_csv('../documents/KaggleV2-May-2016.csv',parse_dates=['ScheduledDay','AppointmentDay'])\n",
    "# File needs to be in the same root folder\n",
    "medical = pd.read_csv('healthcare-dataset-stroke-data.csv')\n",
    "medical.head()\n"
   ]
  },
  {
   "cell_type": "code",
   "execution_count": null,
   "metadata": {},
   "outputs": [],
   "source": [
    "# medical['ever_married'].value_counts()\n",
    "medical['ever_married'] = medical['ever_married'].map({'Yes':1,'No':0})"
   ]
  },
  {
   "cell_type": "code",
   "execution_count": null,
   "metadata": {},
   "outputs": [],
   "source": [
    "le = LabelEncoder()\n",
    "medical['gender'] = le.fit_transform(medical['gender'])\n",
    "medical['work_type'] = le.fit_transform(medical['work_type'])\n",
    "medical['Residence_type'] = le.fit_transform(medical['Residence_type'])\n",
    "medical['smoking_status'] = le.fit_transform(medical['smoking_status'])\n",
    "medical.fillna(0)\n"
   ]
  },
  {
   "cell_type": "code",
   "execution_count": null,
   "metadata": {},
   "outputs": [],
   "source": [
    "medical.head()\n",
    "medical.to_csv('medical.csv', index=False)"
   ]
  },
  {
   "cell_type": "code",
   "execution_count": null,
   "metadata": {},
   "outputs": [],
   "source": [
    "df_cm = medical.corr(method='pearson', min_periods=1)\n",
    "df_cm = df_cm.drop(['id'])\n",
    "sns.set(font_scale=1.4) # for label size\n",
    "sns.heatmap(df_cm, annot=True, annot_kws={\"size\": 16},fmt='g') # font size\n",
    "# plt.figure(figsize=(80, 80))\n",
    "plt.title(\"Correlation Matrix\")\n",
    "plt.rcParams[\"figure.figsize\"] = (20,10)\n",
    "\n",
    "plt.savefig('test2png.png', dpi=100)\n",
    "plt.show()\n"
   ]
  },
  {
   "cell_type": "code",
   "execution_count": null,
   "metadata": {},
   "outputs": [],
   "source": [
    "from scipy.stats.stats import pearsonr\n",
    "\n",
    "target_col_name = 'stroke'\n",
    "feature_target_corr = {}\n",
    "for col in df_cm:\n",
    "    if target_col_name != col:\n",
    "        feature_target_corr[col + '_' + target_col_name] = \\\n",
    "            pearsonr(df_cm[col], df_cm[target_col_name])\n",
    "print(\"Feature-Target Correlations\")\n",
    "print(feature_target_corr)"
   ]
  },
  {
   "cell_type": "code",
   "execution_count": null,
   "metadata": {},
   "outputs": [],
   "source": [
    "sc = StandardScaler()\n",
    "medical =medical[~medical.isin([np.nan, np.inf, -np.inf]).any(1)]\n",
    "\n",
    "scaledData = pd.DataFrame(sc.fit_transform(medical.drop(['id', 'stroke'],axis=1)),columns=medical.drop(['id', 'stroke'],axis=1).columns)\n",
    "\n",
    "x = scaledData\n",
    "y = medical['stroke']\n"
   ]
  },
  {
   "cell_type": "code",
   "execution_count": null,
   "metadata": {},
   "outputs": [],
   "source": [
    "df =pd.DataFrame(medical.drop(['id', 'gender', 'ever_married', 'heart_disease', 'Residence_type' ,'hypertension'],axis=1))\n",
    "# medical.columns\n",
    "sns.pairplot(df, hue=\"stroke\")"
   ]
  },
  {
   "cell_type": "code",
   "execution_count": null,
   "metadata": {},
   "outputs": [],
   "source": [
    "df =pd.DataFrame(medical.drop(['id', 'avg_glucose_level', 'bmi', 'age'],axis=1))\n",
    "# medical.columns\n",
    "sns.pairplot(df, hue=\"stroke\")"
   ]
  },
  {
   "cell_type": "code",
   "execution_count": null,
   "metadata": {},
   "outputs": [],
   "source": [
    "medical.columns\n",
    "medical['hypertension'].hist(by=medical['stroke'])\n",
    "medical['heart_disease'].hist(by=medical['stroke'])\n",
    "\n",
    "# medical['stroke'].hist(by=medical['Residence_type'])"
   ]
  },
  {
   "cell_type": "code",
   "execution_count": null,
   "metadata": {},
   "outputs": [],
   "source": [
    "xtrain,xtest,ytrain,ytest = train_test_split(x,y,test_size = .20 ,random_state=32)\n"
   ]
  },
  {
   "cell_type": "code",
   "execution_count": null,
   "metadata": {},
   "outputs": [],
   "source": [
    "# print (ytrain)\n",
    "# print(type(xtrain))\n",
    "# ytrain.isna()\n",
    "# xtrain.fillna(0)\n",
    "# ytrain.fillna(0)"
   ]
  },
  {
   "cell_type": "code",
   "execution_count": null,
   "metadata": {},
   "outputs": [],
   "source": [
    "\n",
    "#Packages used for random and decision trees\n",
    "from sklearn.tree import DecisionTreeClassifier\n",
    "from sklearn.ensemble import RandomForestClassifier\n",
    "\n",
    "#Calling the random forest function from SciKit and fitting our datasets our datasets into the model\n",
    "model = RandomForestClassifier()\n",
    "rForest= model.fit(xtrain, ytrain)\n",
    "\n",
    "#Our Predictions from the model\n",
    "ypred = rForest.predict(xtest)\n",
    "df_cm =pd.DataFrame(confusion_matrix(ytest,ypred), ['True', 'False'], ['True', 'False'])\n",
    "# plt.figure(figsize=(10,7))\n",
    "plt.title(\"Random Forest Confusion Matrix\")\n",
    "plt.rcParams[\"figure.figsize\"] = (20,10)\n",
    "\n",
    "sns.set(font_scale=1.4) # for label size\n",
    "sns.heatmap(df_cm, annot=True, annot_kws={\"size\": 16},fmt='g') # font size\n",
    "plt.show()\n",
    "\n",
    "#Model Performance\n",
    "print('\\n***','Random Forest','*** \\n')\n",
    "print('accuracy_score \\n',accuracy_score(ytest,ypred))\n",
    "print('confusion_matrix \\n',confusion_matrix(ytest,ypred))\n",
    "print('classification_report \\n',classification_report(ytest,ypred))\n",
    "\n"
   ]
  },
  {
   "cell_type": "code",
   "execution_count": null,
   "metadata": {},
   "outputs": [],
   "source": [
    "\n",
    "#Calling the decision tree function from SciKit and fitting our datasets into the model\n",
    "model = DecisionTreeClassifier()\n",
    "dTree= model.fit(xtrain, ytrain)\n",
    "\n",
    "#Our Predictions from the model\n",
    "ypred = dTree.predict(xtest)\n",
    "df_cm =pd.DataFrame(confusion_matrix(ytest,ypred), ['True', 'False'], ['True', 'False'])\n",
    "# plt.figure(figsize=(10,7))\n",
    "plt.title(\"Decision Tree Confusion Matrix\")\n",
    "plt.rcParams[\"figure.figsize\"] = (20,10)\n",
    "\n",
    "sns.set(font_scale=1.4) # for label size\n",
    "sns.heatmap(df_cm, annot=True, annot_kws={\"size\": 16},fmt='g') # font size\n",
    "\n",
    "plt.show()\n",
    "\n",
    "#Model Performance\n",
    "print('\\n***','Decision Tree','*** \\n')\n",
    "print('accuracy_score \\n',accuracy_score(ytest,ypred))\n",
    "print('confusion_matrix \\n',confusion_matrix(ytest,ypred))\n",
    "print('classification_report \\n',classification_report(ytest,ypred))\n",
    "\n",
    "\n"
   ]
  },
  {
   "cell_type": "code",
   "execution_count": null,
   "metadata": {},
   "outputs": [],
   "source": [
    "from sklearn.linear_model import LogisticRegression\n",
    "\n",
    "# instantiate the model (using the default parameters)\n",
    "logreg = LogisticRegression()\n",
    "\n",
    "# fit the model with data\n",
    "logreg.fit(xtrain,ytrain)\n",
    "\n",
    "\n",
    "ypred=logreg.predict(xtest)\n",
    "df_cm =pd.DataFrame(confusion_matrix(ytest,ypred), ['True', 'False'], ['True', 'False'])\n",
    "# plt.figure(figsize=(10,7))\n",
    "plt.title(\"Logistic Regression Confusion Matrix\")\n",
    "plt.rcParams[\"figure.figsize\"] = (20,10)\n",
    "\n",
    "sns.set(font_scale=1.4) # for label size\n",
    "sns.heatmap(df_cm, annot=True, annot_kws={\"size\": 16},fmt='g') # font size\n",
    "plt.show()\n",
    "\n",
    "#Model Performance\n",
    "print('\\n***','Logistic Regression','*** \\n')\n",
    "print('accuracy_score \\n',accuracy_score(ytest,ypred))\n",
    "print('confusion_matrix \\n',confusion_matrix(ytest,ypred))\n",
    "print('classification_report \\n',classification_report(ytest,ypred))"
   ]
  },
  {
   "cell_type": "code",
   "execution_count": null,
   "metadata": {},
   "outputs": [],
   "source": [
    "#Packages used for Support Vectors\n",
    "from sklearn import svm\n",
    "\n",
    "#Process time is slow for Support Vector models\n",
    "model = svm.SVC(kernel='linear')\n",
    "\n",
    "#Fitting our data\n",
    "sVector= model.fit(xtrain, ytrain)\n",
    "\n",
    "#Our Predictions from the model\n",
    "ypred = sVector.predict(xtest)\n",
    "df_cm =pd.DataFrame(confusion_matrix(ytest,ypred), ['True', 'False'], ['True', 'False'])\n",
    "# plt.figure(figsize=(10,7))\n",
    "plt.title(\"Support Vector Machine Learning Confusion Matrix\")\n",
    "plt.rcParams[\"figure.figsize\"] = (20,10)\n",
    "\n",
    "sns.set(font_scale=1.4) # for label size\n",
    "sns.heatmap(df_cm, annot=True, annot_kws={\"size\": 16},fmt='g') # font size\n",
    "plt.show()\n",
    "\n",
    "#Model Performance\n",
    "print('\\n***','Support Vector Machine Learning','*** \\n')\n",
    "print('accuracy_score \\n',accuracy_score(ytest,ypred))\n",
    "print('confusion_matrix \\n',confusion_matrix(ytest,ypred))\n",
    "print('classification_report \\n',classification_report(ytest,ypred))\n",
    "\n"
   ]
  },
  {
   "cell_type": "code",
   "execution_count": null,
   "metadata": {},
   "outputs": [],
   "source": [
    "#Package used for Kmeans learning\n",
    "from sklearn.cluster import KMeans\n",
    "\n",
    "df = medical.drop(['id'], axis=1)\n",
    "df.head()\n",
    "\n",
    "#Sorting into two clusters across ENTIRE dataset\n",
    "kmeans = KMeans(n_clusters=2, random_state=0).fit(df)\n",
    "labels = kmeans.labels_\n",
    "\n",
    "#kMean labels are added to our dataframe\n",
    "df['clusters'] = labels\n",
    "\n",
    "\n",
    "#Scatter plot of only clusters Age Vs No-Show using seaborn packages\n",
    "sns.lmplot('age', 'stroke', \n",
    "           data=df, \n",
    "           fit_reg=False, \n",
    "           hue=\"clusters\",  \n",
    "           scatter_kws={\"marker\": \"D\", \n",
    "                        \"s\": 100})\n",
    "plt.title('Age vs stroke')\n",
    "plt.xlabel('Age')\n",
    "plt.ylabel('stroke')\n",
    "\n"
   ]
  }
 ],
 "metadata": {
  "kernelspec": {
   "display_name": "Python 3",
   "language": "python",
   "name": "python3"
  },
  "language_info": {
   "codemirror_mode": {
    "name": "ipython",
    "version": 3
   },
   "file_extension": ".py",
   "mimetype": "text/x-python",
   "name": "python",
   "nbconvert_exporter": "python",
   "pygments_lexer": "ipython3",
   "version": "3.7.3"
  }
 },
 "nbformat": 4,
 "nbformat_minor": 2
}
